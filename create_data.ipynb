{
 "cells": [
  {
   "cell_type": "code",
   "execution_count": 1,
   "metadata": {},
   "outputs": [],
   "source": [
    "import pandas as pd\n",
    "import numpy as np\n",
    "import seaborn as sns\n",
    "import matplotlib.pyplot as plot\n",
    "import math"
   ]
  },
  {
   "cell_type": "markdown",
   "metadata": {},
   "source": [
    "## 기본 환경 구성"
   ]
  },
  {
   "cell_type": "code",
   "execution_count": 2,
   "metadata": {},
   "outputs": [],
   "source": [
    "MC_N = 10**4   # 데이터 생성 시뮬레이션 횟수\n",
    "MC_N = MC_N\n",
    "\n",
    "size_x = 25   # x축 사이즈\n",
    "size_y = 25   # y축 사이즈\n",
    "\n",
    "X_x_list = np.random.rand(MC_N,1) * size_x    # 0과 25 사이 임의의 타겟 데이터의 x값 생성\n",
    "X_x_list = X_x_list.flatten().tolist()\n",
    "X_y_list = np.random.rand(MC_N,1) * size_y    # 0과 25 사이 임의의 타겟 데이터의 y값 생성\n",
    "X_y_list = X_y_list.flatten().tolist()\n",
    "\n",
    "sensor_ref_x_list = [0] * MC_N                      #sensor ref x coordinate\n",
    "sensor_ref_y_list = [0] * MC_N                      #sensor ref  y coordinate\n",
    "sensor_one_x_list = [size_x] * MC_N                 #sensor 1 x coordinate\n",
    "sensor_one_y_list = [0] * MC_N                      #sensor 1 y coordinate\n",
    "sensor_two_x_list = [0] * MC_N                      #sensor 2 x coordinate\n",
    "sensor_two_y_list = [size_y] * MC_N                 #sensor 2 y coordinate\n",
    "sensor_three_x_list = [size_x] * MC_N                #sensor 3 x coordinate\n",
    "sensor_three_y_list = [size_y] * MC_N                #sensor 3 y coordinate\n",
    "\n",
    "\n",
    "environment_error_rate = 0.5"
   ]
  },
  {
   "cell_type": "markdown",
   "metadata": {},
   "source": [
    "## 실제 타겟과 기기가 관측한 타겟 데이터 생성"
   ]
  },
  {
   "cell_type": "code",
   "execution_count": 3,
   "metadata": {},
   "outputs": [],
   "source": [
    "max_device_error = 0.1  #위의 사진에 의해 device 기기의 에러값 선언 (미터)\n",
    "\n",
    "noise_x_list = []\n",
    "noise_y_list = []\n",
    "\n",
    "\n",
    "while(len(noise_x_list) != MC_N):\n",
    "    #평균0 표준편차가 1인 가우시안 표준정규분포 난수 생성 뒤 max_device_error을 곱하여 맥시멈 에러에 대해 스케일링\n",
    "    temp_x = np.random.randn()  * max_device_error   \n",
    "    temp_y = np.random.randn()  * max_device_error\n",
    "    \n",
    "    if( (temp_x**2 + temp_y**2 < max_device_error ** 2) ):    \n",
    "        noise_x_list.append(temp_x)\n",
    "        noise_y_list.append(temp_y)\n",
    "    \n",
    "    \n",
    "X_hat_x_list = [x+y for x,y in zip(X_x_list, noise_x_list)]   #기기를 통해 생성되는 측정되는 좌표의 x값 \n",
    "X_hat_y_list = [x+y for x,y in zip(X_y_list, noise_y_list)]   #기기를 통해 생성되는 측정되는 좌표의 y값 "
   ]
  },
  {
   "cell_type": "markdown",
   "metadata": {},
   "source": [
    "## TOA값 생성"
   ]
  },
  {
   "cell_type": "code",
   "execution_count": 4,
   "metadata": {},
   "outputs": [],
   "source": [
    "distance_ref_X_list = [-100] * MC_N  \n",
    "distance_one_X_list = [-100] * MC_N  \n",
    "distance_two_X_list = [-100] * MC_N \n",
    "distance_three_X_list = [-100] * MC_N  \n",
    "\n",
    "distance_ref_X_hat_list = [-100] * MC_N  \n",
    "distance_one_X_hat_list = [-100] * MC_N  \n",
    "distance_two_X_hat_list = [-100] * MC_N  \n",
    "distance_three_X_hat_list = [-100] * MC_N  \n",
    "\n",
    "\n",
    "for i in range(MC_N):\n",
    "    X_x = X_x_list[i]\n",
    "    X_y = X_y_list[i]\n",
    "    \n",
    "    X_hat_x = X_hat_x_list[i]\n",
    "    X_hat_y = X_hat_y_list[i]\n",
    "    \n",
    "    sensor_ref_x = sensor_ref_x_list[i]\n",
    "    sensor_ref_y = sensor_ref_y_list[i]\n",
    "    sensor_one_x = sensor_one_x_list[i]\n",
    "    sensor_one_y = sensor_one_y_list[i]\n",
    "    sensor_two_x = sensor_two_x_list[i]\n",
    "    sensor_two_y = sensor_two_y_list[i]\n",
    "    sensor_three_x = sensor_three_x_list[i]\n",
    "    sensor_three_y = sensor_three_y_list[i]\n",
    "    \n",
    "    distance_ref_X_hat_list[i] = math.sqrt((X_hat_x - sensor_ref_x)**2 + (X_hat_y - sensor_ref_y)**2)  # ref과 Xhat 거리\n",
    "    distance_one_X_hat_list[i] = math.sqrt((X_hat_x - sensor_one_x)**2 + (X_hat_y - sensor_one_y)**2)  # 1과 Xhat 거리\n",
    "    distance_two_X_hat_list[i] = math.sqrt((X_hat_x - sensor_two_x)**2 + (X_hat_y - sensor_two_y)**2)  # 2와 Xhat 거리\n",
    "    distance_three_X_hat_list[i] = math.sqrt((X_hat_x - sensor_three_x)**2 + (X_hat_y - sensor_three_y)**2)  # 3과 타Xhat 거리"
   ]
  },
  {
   "cell_type": "code",
   "execution_count": 5,
   "metadata": {},
   "outputs": [],
   "source": [
    "df = pd.DataFrame(data = {'X_x':X_x_list , 'X_y' : X_y_list , \n",
    "                         'X_noise_x':noise_x_list , 'X_noise_y' : noise_y_list , \n",
    "                          'X_hat_x':X_hat_x_list ,'X_hat_y':X_hat_y_list,\n",
    "                          'distance_ref_X_hat' : distance_ref_X_hat_list , 'distance_one_X_hat' : distance_one_X_hat_list,\n",
    "                          'distance_two_X_hat' : distance_two_X_hat_list , 'distance_three_X_hat' : distance_three_X_hat_list   \n",
    "                         })"
   ]
  },
  {
   "cell_type": "markdown",
   "metadata": {},
   "source": [
    "## 환경에 의한 에러값 생성"
   ]
  },
  {
   "cell_type": "markdown",
   "metadata": {},
   "source": [
    "http://preview.kyobobook.co.kr/epubPreviewPopup.jsp?type=web&barcode=480D130703480&search=Y\n",
    "<br>\n",
    "https://hyoukjang.github.io/vr/indoor-positioning/ips/2017/10/22/positional-tracking-101-2.html\n",
    "<br>\n",
    "마이크로파 파장 : 약 10^-2"
   ]
  },
  {
   "cell_type": "code",
   "execution_count": 6,
   "metadata": {},
   "outputs": [],
   "source": [
    "def create_environment_error(distance):\n",
    "    error_rate = 0.3\n",
    "    if(float(np.random.rand()) < error_rate):\n",
    "        obstacle_heigth =  np.random.rand()   #부딪히는 물체의 길이\n",
    "        if(distance < obstacle_heigth):         # 말이 안되는거 그냥 0으로 채워 넣음\n",
    "            return 0\n",
    "        \n",
    "        #By 프레넬 영역을 이용한 추가 이동 거리 구현(함 위에 사이트 읽어보고 이상하다 싶으면 바로 말해줘요)\n",
    "        distance1 = np.random.randn() + (distance/2)\n",
    "        distance2 = distance - distance1\n",
    "        if(distance1 < 0 or distance2 < 0):     # 말이 안되는거 그냥 0으로 채워 넣음\n",
    "            return 0 \n",
    "        \n",
    "        Fresnel_a = 0.01 * math.sqrt(distance1 * distance2 / (distance1+distance2))\n",
    "\n",
    "        break_n = 1\n",
    "        while(Fresnel_a < obstacle_heigth):\n",
    "            Fresnel_a = Fresnel_a * (break_n+1) / break_n\n",
    "            break_n +=1\n",
    "        \n",
    "        distance_final = math.sqrt(np.exp2(distance1) + np.exp2(Fresnel_a)) + math.sqrt(np.exp2(distance2) + np.exp2(Fresnel_a))\n",
    "        \n",
    "        # 너무 이상한값 우리선에서 정리\n",
    "        if(distance_final > 100):\n",
    "            distance_final = 100\n",
    "        \n",
    "    else:\n",
    "        distance_final = distance\n",
    "\n",
    "    return distance_final"
   ]
  },
  {
   "cell_type": "code",
   "execution_count": 7,
   "metadata": {},
   "outputs": [],
   "source": [
    "df['error_distance_ref_X_hat'] = df['distance_ref_X_hat'].apply(create_environment_error)\n",
    "df['error_distance_one_X_hat'] = df['distance_one_X_hat'].apply(create_environment_error)\n",
    "df['error_distance_two_X_hat'] = df['distance_two_X_hat'].apply(create_environment_error)\n",
    "df['error_distance_three_X_hat'] = df['distance_three_X_hat'].apply(create_environment_error)\n"
   ]
  },
  {
   "cell_type": "code",
   "execution_count": 8,
   "metadata": {},
   "outputs": [
    {
     "data": {
      "text/plain": [
       "count    10000.000000\n",
       "mean        19.176010\n",
       "std          7.074350\n",
       "min          0.261905\n",
       "25%         14.224513\n",
       "50%         20.027954\n",
       "75%         24.392928\n",
       "max         35.224946\n",
       "Name: distance_ref_X_hat, dtype: float64"
      ]
     },
     "execution_count": 8,
     "metadata": {},
     "output_type": "execute_result"
    }
   ],
   "source": [
    "df['distance_ref_X_hat'].describe()"
   ]
  },
  {
   "cell_type": "code",
   "execution_count": 9,
   "metadata": {},
   "outputs": [
    {
     "data": {
      "text/plain": [
       "count    10000.000000\n",
       "mean        32.000908\n",
       "std         28.769702\n",
       "min          0.000000\n",
       "25%         15.333763\n",
       "50%         22.195751\n",
       "75%         29.618585\n",
       "max        100.000000\n",
       "Name: error_distance_ref_X_hat, dtype: float64"
      ]
     },
     "execution_count": 9,
     "metadata": {},
     "output_type": "execute_result"
    }
   ],
   "source": [
    "df['error_distance_ref_X_hat'].describe()"
   ]
  },
  {
   "cell_type": "markdown",
   "metadata": {},
   "source": [
    "## TDOA값 생성"
   ]
  },
  {
   "cell_type": "code",
   "execution_count": 11,
   "metadata": {},
   "outputs": [],
   "source": [
    "df['TDOA_X_hat_ref_one_error'] = df['error_distance_ref_X_hat'] - df['error_distance_one_X_hat']\n",
    "df['TDOA_X_hat_ref_two_error'] = df['error_distance_ref_X_hat'] - df['error_distance_two_X_hat']\n",
    "df['TDOA_X_hat_ref_three_error'] = df['error_distance_ref_X_hat'] - df['error_distance_three_X_hat']"
   ]
  },
  {
   "cell_type": "code",
   "execution_count": 12,
   "metadata": {},
   "outputs": [],
   "source": [
    "df_parsing = df[['TDOA_X_hat_ref_one_error' , 'TDOA_X_hat_ref_two_error' , 'TDOA_X_hat_ref_three_error' , 'X_hat_x' , 'X_hat_y']]\n",
    "df_parsing.columns = ['TDOA_1', 'TDOA_2', 'TDOA_3' , 'coordinate_x' , 'coordinate_y']\n",
    "\n",
    "df_parsing = df_parsing.reset_index(drop=True)"
   ]
  },
  {
   "cell_type": "code",
   "execution_count": 13,
   "metadata": {},
   "outputs": [
    {
     "data": {
      "text/html": [
       "<div>\n",
       "<style scoped>\n",
       "    .dataframe tbody tr th:only-of-type {\n",
       "        vertical-align: middle;\n",
       "    }\n",
       "\n",
       "    .dataframe tbody tr th {\n",
       "        vertical-align: top;\n",
       "    }\n",
       "\n",
       "    .dataframe thead th {\n",
       "        text-align: right;\n",
       "    }\n",
       "</style>\n",
       "<table border=\"1\" class=\"dataframe\">\n",
       "  <thead>\n",
       "    <tr style=\"text-align: right;\">\n",
       "      <th></th>\n",
       "      <th>TDOA_1</th>\n",
       "      <th>TDOA_2</th>\n",
       "      <th>TDOA_3</th>\n",
       "      <th>coordinate_x</th>\n",
       "      <th>coordinate_y</th>\n",
       "    </tr>\n",
       "  </thead>\n",
       "  <tbody>\n",
       "    <tr>\n",
       "      <th>0</th>\n",
       "      <td>78.949539</td>\n",
       "      <td>79.238811</td>\n",
       "      <td>93.480068</td>\n",
       "      <td>20.270349</td>\n",
       "      <td>20.512247</td>\n",
       "    </tr>\n",
       "    <tr>\n",
       "      <th>1</th>\n",
       "      <td>3.777966</td>\n",
       "      <td>9.539378</td>\n",
       "      <td>14.793111</td>\n",
       "      <td>16.186692</td>\n",
       "      <td>20.709705</td>\n",
       "    </tr>\n",
       "    <tr>\n",
       "      <th>2</th>\n",
       "      <td>-77.443970</td>\n",
       "      <td>20.100752</td>\n",
       "      <td>-2.340767</td>\n",
       "      <td>0.223558</td>\n",
       "      <td>22.554922</td>\n",
       "    </tr>\n",
       "    <tr>\n",
       "      <th>3</th>\n",
       "      <td>45.979282</td>\n",
       "      <td>-6.993135</td>\n",
       "      <td>44.907504</td>\n",
       "      <td>15.477554</td>\n",
       "      <td>11.826099</td>\n",
       "    </tr>\n",
       "    <tr>\n",
       "      <th>4</th>\n",
       "      <td>-0.454112</td>\n",
       "      <td>-54.492988</td>\n",
       "      <td>-5.831061</td>\n",
       "      <td>12.224295</td>\n",
       "      <td>8.608425</td>\n",
       "    </tr>\n",
       "    <tr>\n",
       "      <th>...</th>\n",
       "      <td>...</td>\n",
       "      <td>...</td>\n",
       "      <td>...</td>\n",
       "      <td>...</td>\n",
       "      <td>...</td>\n",
       "    </tr>\n",
       "    <tr>\n",
       "      <th>9995</th>\n",
       "      <td>-2.131181</td>\n",
       "      <td>-9.256385</td>\n",
       "      <td>-10.558660</td>\n",
       "      <td>11.315802</td>\n",
       "      <td>6.037584</td>\n",
       "    </tr>\n",
       "    <tr>\n",
       "      <th>9996</th>\n",
       "      <td>12.965217</td>\n",
       "      <td>2.536776</td>\n",
       "      <td>13.586878</td>\n",
       "      <td>23.789383</td>\n",
       "      <td>15.237974</td>\n",
       "    </tr>\n",
       "    <tr>\n",
       "      <th>9997</th>\n",
       "      <td>13.995493</td>\n",
       "      <td>-6.535459</td>\n",
       "      <td>2.098095</td>\n",
       "      <td>20.714582</td>\n",
       "      <td>6.007455</td>\n",
       "    </tr>\n",
       "    <tr>\n",
       "      <th>9998</th>\n",
       "      <td>-80.963625</td>\n",
       "      <td>12.556311</td>\n",
       "      <td>-4.555417</td>\n",
       "      <td>2.208372</td>\n",
       "      <td>18.907847</td>\n",
       "    </tr>\n",
       "    <tr>\n",
       "      <th>9999</th>\n",
       "      <td>32.781129</td>\n",
       "      <td>49.618302</td>\n",
       "      <td>39.108485</td>\n",
       "      <td>6.397742</td>\n",
       "      <td>18.304513</td>\n",
       "    </tr>\n",
       "  </tbody>\n",
       "</table>\n",
       "<p>10000 rows × 5 columns</p>\n",
       "</div>"
      ],
      "text/plain": [
       "         TDOA_1     TDOA_2     TDOA_3  coordinate_x  coordinate_y\n",
       "0     78.949539  79.238811  93.480068     20.270349     20.512247\n",
       "1      3.777966   9.539378  14.793111     16.186692     20.709705\n",
       "2    -77.443970  20.100752  -2.340767      0.223558     22.554922\n",
       "3     45.979282  -6.993135  44.907504     15.477554     11.826099\n",
       "4     -0.454112 -54.492988  -5.831061     12.224295      8.608425\n",
       "...         ...        ...        ...           ...           ...\n",
       "9995  -2.131181  -9.256385 -10.558660     11.315802      6.037584\n",
       "9996  12.965217   2.536776  13.586878     23.789383     15.237974\n",
       "9997  13.995493  -6.535459   2.098095     20.714582      6.007455\n",
       "9998 -80.963625  12.556311  -4.555417      2.208372     18.907847\n",
       "9999  32.781129  49.618302  39.108485      6.397742     18.304513\n",
       "\n",
       "[10000 rows x 5 columns]"
      ]
     },
     "execution_count": 13,
     "metadata": {},
     "output_type": "execute_result"
    }
   ],
   "source": [
    "df_parsing"
   ]
  },
  {
   "cell_type": "code",
   "execution_count": null,
   "metadata": {},
   "outputs": [],
   "source": []
  }
 ],
 "metadata": {
  "interpreter": {
   "hash": "4ea6803edcbcc76b599bca5aabc72c071c71a5fb5b985fefc9e162e14f0f1d38"
  },
  "kernelspec": {
   "display_name": "Python 3.8.8 64-bit ('base': conda)",
   "language": "python",
   "name": "python3"
  },
  "language_info": {
   "codemirror_mode": {
    "name": "ipython",
    "version": 3
   },
   "file_extension": ".py",
   "mimetype": "text/x-python",
   "name": "python",
   "nbconvert_exporter": "python",
   "pygments_lexer": "ipython3",
   "version": "3.8.8"
  },
  "orig_nbformat": 4
 },
 "nbformat": 4,
 "nbformat_minor": 2
}
