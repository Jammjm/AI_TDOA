{
  "nbformat": 4,
  "nbformat_minor": 0,
  "metadata": {
    "colab": {
      "name": "Untitled1.ipynb",
      "provenance": []
    },
    "kernelspec": {
      "name": "python3",
      "display_name": "Python 3"
    },
    "language_info": {
      "name": "python"
    }
  },
  "cells": [
    {
      "cell_type": "code",
      "metadata": {
        "id": "QdmlCpFGmNLp"
      },
      "source": [
        "import pandas as pd\n",
        "import numpy as np\n",
        "import seaborn as sns\n",
        "import matplotlib.pyplot as plt\n",
        "from sklearn.model_selection import train_test_split\n",
        "import math"
      ],
      "execution_count": 1,
      "outputs": []
    },
    {
      "cell_type": "code",
      "metadata": {
        "id": "SoiAFSUKmXvi"
      },
      "source": [
        "MC_N = 10**4   # 데이터 생성 시뮬레이션 횟수\n",
        "MC_N = MC_N \n",
        "\n",
        "size_x = 25   # x축 사이즈\n",
        "size_y = 25   # y축 사이즈\n",
        "\n",
        "X_x_list = np.random.rand(MC_N,1) * size_x    # 0과 25 사이 임의의 타겟 데이터의 x값 생성\n",
        "X_x_list = X_x_list.flatten().tolist()\n",
        "X_y_list = np.random.rand(MC_N,1) * size_y    # 0과 25 사이 임의의 타겟 데이터의 y값 생성\n",
        "X_y_list = X_y_list.flatten().tolist()\n",
        "\n",
        "sensor_ref_x_list = [0] * MC_N                      #sensor ref x coordinate\n",
        "sensor_ref_y_list = [0] * MC_N                      #sensor ref  y coordinate\n",
        "sensor_one_x_list = [size_x] * MC_N                 #sensor 1 x coordinate\n",
        "sensor_one_y_list = [0] * MC_N                      #sensor 1 y coordinate\n",
        "sensor_two_x_list = [0] * MC_N                      #sensor 2 x coordinate\n",
        "sensor_two_y_list = [size_y] * MC_N                 #sensor 2 y coordinate\n",
        "sensor_three_x_list = [size_x] * MC_N                #sensor 3 x coordinate\n",
        "sensor_three_y_list = [size_y] * MC_N                #sensor 3 y coordinate"
      ],
      "execution_count": 2,
      "outputs": []
    },
    {
      "cell_type": "code",
      "metadata": {
        "id": "FErv6e1OmwIw"
      },
      "source": [
        "def create_environment_error(distance):\n",
        "    error_rate = 0.3\n",
        "    if(float(np.random.rand()) < error_rate):\n",
        "        obstacle_heigth =  3 * np.random.rand()   #부딪히는 물체의 길이\n",
        "        if(distance < obstacle_heigth):         # 말이 안되는거 그냥 0으로 채워 넣음\n",
        "            return 0\n",
        "        \n",
        "        #By 프레넬 영역을 이용한 추가 이동 거리 구현(함 위에 사이트 읽어보고 이상하다 싶으면 바로 말해줘요)\n",
        "        distance1 = np.random.randn() + (distance/2)\n",
        "        distance2 = distance - distance1\n",
        "        if(distance1 < 0 or distance2 < 0):     # 말이 안되는거 그냥 0으로 채워 넣음\n",
        "            return 0 \n",
        "        \n",
        "        Fresnel_a = 0.01 * math.sqrt(distance1 * distance2 / (distance1+distance2))\n",
        "\n",
        "        break_n = 1\n",
        "        while(Fresnel_a < obstacle_heigth):\n",
        "            Fresnel_a = Fresnel_a * (break_n+1) / break_n\n",
        "            break_n +=1\n",
        "        \n",
        "        distance_final = math.sqrt(np.square(distance1) + np.square(Fresnel_a)) + math.sqrt(np.square(distance2) + np.square(Fresnel_a))\n",
        "        \n",
        "        # 너무 이상한값 우리선에서 정리\n",
        "        if(distance_final > 100):\n",
        "            distance_final = 100\n",
        "        \n",
        "    else:\n",
        "        distance_final = distance\n",
        "\n",
        "    return distance_final"
      ],
      "execution_count": 3,
      "outputs": []
    },
    {
      "cell_type": "code",
      "metadata": {
        "id": "PTf8QYaOmbZR"
      },
      "source": [
        "max_device_error = 0.1  #위의 사진에 의해 device 기기의 에러값 선언 (미터)\n",
        "\n",
        "noise_x_list = []\n",
        "noise_y_list = []\n",
        "\n",
        "\n",
        "while(len(noise_x_list) != MC_N):\n",
        "    #평균0 표준편차가 1인 가우시안 표준정규분포 난수 생성 뒤 max_device_error을 곱하여 맥시멈 에러에 대해 스케일링\n",
        "    temp_x = np.random.randn()  * max_device_error   \n",
        "    temp_y = np.random.randn()  * max_device_error\n",
        "    \n",
        "    if( (temp_x**2 + temp_y**2 < max_device_error ** 2) ):    \n",
        "        noise_x_list.append(temp_x)\n",
        "        noise_y_list.append(temp_y)\n",
        "    \n",
        "    \n",
        "X_hat_x_list = [x+y for x,y in zip(X_x_list, noise_x_list)]   #기기를 통해 생성되는 측정되는 좌표의 x값 \n",
        "X_hat_y_list = [x+y for x,y in zip(X_y_list, noise_y_list)]   #기기를 통해 생성되는 측정되는 좌표의 y값 \n",
        "\n",
        "distance_ref_X_list = [-100] * MC_N  \n",
        "distance_one_X_list = [-100] * MC_N  \n",
        "distance_two_X_list = [-100] * MC_N \n",
        "distance_three_X_list = [-100] * MC_N  \n",
        "\n",
        "distance_ref_X_hat_list = [-100] * MC_N  \n",
        "distance_one_X_hat_list = [-100] * MC_N  \n",
        "distance_two_X_hat_list = [-100] * MC_N  \n",
        "distance_three_X_hat_list = [-100] * MC_N  \n",
        "\n",
        "\n",
        "for i in range(MC_N):\n",
        "    X_x = X_x_list[i]\n",
        "    X_y = X_y_list[i]\n",
        "    \n",
        "    X_hat_x = X_hat_x_list[i]\n",
        "    X_hat_y = X_hat_y_list[i]\n",
        "    \n",
        "    sensor_ref_x = sensor_ref_x_list[i]\n",
        "    sensor_ref_y = sensor_ref_y_list[i]\n",
        "    sensor_one_x = sensor_one_x_list[i]\n",
        "    sensor_one_y = sensor_one_y_list[i]\n",
        "    sensor_two_x = sensor_two_x_list[i]\n",
        "    sensor_two_y = sensor_two_y_list[i]\n",
        "    sensor_three_x = sensor_three_x_list[i]\n",
        "    sensor_three_y = sensor_three_y_list[i]\n",
        "    \n",
        "    distance_ref_X_hat_list[i] = math.sqrt((X_hat_x - sensor_ref_x)**2 + (X_hat_y - sensor_ref_y)**2)  # ref과 Xhat 거리\n",
        "    distance_one_X_hat_list[i] = math.sqrt((X_hat_x - sensor_one_x)**2 + (X_hat_y - sensor_one_y)**2)  # 1과 Xhat 거리\n",
        "    distance_two_X_hat_list[i] = math.sqrt((X_hat_x - sensor_two_x)**2 + (X_hat_y - sensor_two_y)**2)  # 2와 Xhat 거리\n",
        "    distance_three_X_hat_list[i] = math.sqrt((X_hat_x - sensor_three_x)**2 + (X_hat_y - sensor_three_y)**2)  # 3과 타Xhat 거리\n",
        "\n",
        "df = pd.DataFrame(data = {'X_x':X_x_list , 'X_y' : X_y_list , \n",
        "                         'X_noise_x':noise_x_list , 'X_noise_y' : noise_y_list , \n",
        "                          'X_hat_x':X_hat_x_list ,'X_hat_y':X_hat_y_list,\n",
        "                          'distance_ref_X_hat' : distance_ref_X_hat_list , 'distance_one_X_hat' : distance_one_X_hat_list,\n",
        "                          'distance_two_X_hat' : distance_two_X_hat_list , 'distance_three_X_hat' : distance_three_X_hat_list   \n",
        "                         })"
      ],
      "execution_count": 4,
      "outputs": []
    },
    {
      "cell_type": "code",
      "metadata": {
        "id": "qrF9eiIRmiaq"
      },
      "source": [
        "df['error_distance_ref_X_hat'] = df['distance_ref_X_hat'].apply(create_environment_error)\n",
        "df['error_distance_one_X_hat'] = df['distance_one_X_hat'].apply(create_environment_error)\n",
        "df['error_distance_two_X_hat'] = df['distance_two_X_hat'].apply(create_environment_error)\n",
        "df['error_distance_three_X_hat'] = df['distance_three_X_hat'].apply(create_environment_error)\n",
        "\n",
        "\n",
        "df['TDOA_X_hat_ref_one_error'] = df['error_distance_ref_X_hat'] - df['error_distance_one_X_hat']\n",
        "df['TDOA_X_hat_ref_two_error'] = df['error_distance_ref_X_hat'] - df['error_distance_two_X_hat']\n",
        "df['TDOA_X_hat_ref_three_error'] = df['error_distance_ref_X_hat'] - df['error_distance_three_X_hat']\n",
        "\n",
        "df_parsing = df[['TDOA_X_hat_ref_one_error' , 'TDOA_X_hat_ref_two_error' , 'TDOA_X_hat_ref_three_error' , 'X_hat_x' , 'X_hat_y']]\n",
        "df_parsing.columns = ['TDOA_1', 'TDOA_2', 'TDOA_3' , 'coordinate_x' , 'coordinate_y']\n",
        "\n",
        "df_parsing = df_parsing.reset_index(drop=True)"
      ],
      "execution_count": 5,
      "outputs": []
    },
    {
      "cell_type": "code",
      "metadata": {
        "id": "LXBZUJl_mTsn"
      },
      "source": [
        "def ScalerCoordinate(value):   #world size = area's width and height , value =  x,y coordinate\n",
        "    world_size = 25\n",
        "    value = value / world_size\n",
        "    return value\n",
        "\n",
        "\n",
        "def ScalerTDOA(value):   #world size = area's width and height , value = TDOA value\n",
        "    world_size = 25 * 2**(0.5)\n",
        "    world_size = 100\n",
        "    value = value / world_size\n",
        "    return value\n",
        "\n",
        "num_epochs = 2\n",
        "batch_size = 10"
      ],
      "execution_count": 6,
      "outputs": []
    },
    {
      "cell_type": "code",
      "metadata": {
        "id": "BSPHzw9hmVrO"
      },
      "source": [
        "df = df_parsing\n",
        "\n",
        "df[['TDOA_1' , 'TDOA_2' , 'TDOA_3']] = df[['TDOA_1' , 'TDOA_2' , 'TDOA_3']].apply(ScalerTDOA)  #길이에 대하여 스케일링\n",
        "df[['coordinate_x' , 'coordinate_y']] = df[['coordinate_x' , 'coordinate_y']].apply(ScalerCoordinate)  #좌표에 대하여 스케일링\n",
        "\n",
        "train_df , test_df = train_test_split(df, test_size = 0.2)\n",
        "\n",
        "train_TDOAs = train_df[['TDOA_1' , 'TDOA_2' , 'TDOA_3']].to_numpy()\n",
        "train_X_Hats = train_df[['coordinate_x' , 'coordinate_y']].to_numpy()\n",
        "\n",
        "test_TDOAs = test_df[['TDOA_1' , 'TDOA_2' , 'TDOA_3']].to_numpy()\n",
        "test_X_Hats = test_df[['coordinate_x' , 'coordinate_y']].to_numpy()\n"
      ],
      "execution_count": 7,
      "outputs": []
    },
    {
      "cell_type": "code",
      "metadata": {
        "id": "LTJ2MubCnCAn"
      },
      "source": [
        "# Do not modify this block\n",
        "from tensorflow.keras import models\n",
        "from tensorflow.keras import layers\n",
        "\n",
        "model = models.Sequential()\n",
        "model.add(layers.Dense(25, activation='relu', input_shape=(3,)))\n",
        "model.add(layers.Dense(20, activation='relu'))\n",
        "model.add(layers.Dense(2))\n",
        "model.compile(optimizer='adam', loss='mse', metrics=['mae'])\n"
      ],
      "execution_count": 8,
      "outputs": []
    },
    {
      "cell_type": "code",
      "metadata": {
        "colab": {
          "base_uri": "https://localhost:8080/"
        },
        "id": "i4fO3t5snmkf",
        "outputId": "5e923612-6500-4fd2-f744-174dda8a3cde"
      },
      "source": [
        "history = model.fit(train_TDOAs, \n",
        "                      train_X_Hats,\n",
        "                      epochs=num_epochs,\n",
        "                      batch_size=batch_size, \n",
        "                      verbose=1)"
      ],
      "execution_count": 9,
      "outputs": [
        {
          "output_type": "stream",
          "name": "stdout",
          "text": [
            "Epoch 1/2\n",
            "800/800 [==============================] - 2s 2ms/step - loss: 0.0214 - mae: 0.0560\n",
            "Epoch 2/2\n",
            "800/800 [==============================] - 1s 2ms/step - loss: 1.6177e-04 - mae: 0.0099\n"
          ]
        }
      ]
    },
    {
      "cell_type": "code",
      "metadata": {
        "colab": {
          "base_uri": "https://localhost:8080/",
          "height": 299
        },
        "id": "V5qrdJron9bB",
        "outputId": "dc335494-7e49-4e42-bcd4-8bd15f7bdeac"
      },
      "source": [
        "import matplotlib.pyplot as plt\n",
        "%matplotlib inline\n",
        "\n",
        "hist = history\n",
        "fig,(ax0, ax1) = plt.subplots(nrows = 1, ncols = 2, sharey = False)\n",
        "ax0.plot(hist.history[\"mae\"], label = 'mae')\n",
        "ax0.set(title='mae')\n",
        "ax1.plot(hist.history[\"loss\"], label = 'loss')\n",
        "ax1.set(title='loss')"
      ],
      "execution_count": 10,
      "outputs": [
        {
          "output_type": "execute_result",
          "data": {
            "text/plain": [
              "[Text(0.5, 1.0, 'loss')]"
            ]
          },
          "metadata": {},
          "execution_count": 10
        },
        {
          "output_type": "display_data",
          "data": {
            "image/png": "[encoded data removed]",
            "text/plain": [
              "<Figure size 432x288 with 2 Axes>"
            ]
          },
          "metadata": {
            "needs_background": "light"
          }
        }
      ]
    },
    {
      "cell_type": "code",
      "metadata": {
        "colab": {
          "base_uri": "https://localhost:8080/"
        },
        "id": "cZwEkFDuoZUq",
        "outputId": "807b7e30-593b-4ebe-a770-8ec869f4acfc"
      },
      "source": [
        "predict_X_Hats = model.predict(test_TDOAs)\n",
        "\n",
        "distance_gap = np.sqrt(np.sum(np.square(predict_X_Hats*25 - test_X_Hats*25), axis = 1))\n",
        "\n",
        "mean_distance_gap = np.mean(distance_gap)\n",
        "print('평균 오차 거리 : ' , np.round(mean_distance_gap,4) , '미터')"
      ],
      "execution_count": 11,
      "outputs": [
        {
          "output_type": "stream",
          "name": "stdout",
          "text": [
            "평균 오차 거리 :  0.336 미터\n"
          ]
        }
      ]
    }
  ]
}